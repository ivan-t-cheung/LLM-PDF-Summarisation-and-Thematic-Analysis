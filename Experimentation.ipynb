{
  "nbformat": 4,
  "nbformat_minor": 0,
  "metadata": {
    "colab": {
      "provenance": [],
      "authorship_tag": "ABX9TyNsBUfa943O+yBw5K9gr2zj"
    },
    "kernelspec": {
      "name": "python3",
      "display_name": "Python 3"
    },
    "language_info": {
      "name": "python"
    }
  },
  "cells": [
    {
      "cell_type": "markdown",
      "source": [
        "## Install the SDK\n",
        "\n",
        "The Python SDK for the Gemini API is contained in the [`google-generativeai`](https://pypi.org/project/google-generativeai/) package. Install the dependency using pip:"
      ],
      "metadata": {
        "id": "iUlsWbNSLb6O"
      }
    },
    {
      "cell_type": "code",
      "execution_count": 1,
      "metadata": {
        "id": "sqPClpM4JSSr"
      },
      "outputs": [],
      "source": [
        "!pip install -q -U google-generativeai"
      ]
    },
    {
      "cell_type": "markdown",
      "source": [
        "## Set up your API key\n",
        "\n",
        "To use the Gemini API, you'll need an API key. If you don't already have one, create a key in Google AI Studio.\n",
        "\n",
        "<a class=\"button\" href=\"https://aistudio.google.com/app/apikey\" target=\"_blank\" rel=\"noopener noreferrer\">Get an API key</a>\n",
        "\n",
        "In Colab, add the key to the secrets manager under the \"🔑\" in the left panel. Give it the name `GOOGLE_API_KEY`. Then pass the key to the SDK:"
      ],
      "metadata": {
        "id": "fIMTxmhULeVA"
      }
    },
    {
      "cell_type": "code",
      "source": [
        "# Import the Python SDK\n",
        "import google.generativeai as genai\n",
        "# Used to securely store your API key\n",
        "from google.colab import userdata\n",
        "\n",
        "GOOGLE_API_KEY=userdata.get('GOOGLE_API_KEY')\n",
        "genai.configure(api_key=GOOGLE_API_KEY)"
      ],
      "metadata": {
        "id": "O_NUk_SALn02"
      },
      "execution_count": 2,
      "outputs": []
    },
    {
      "cell_type": "markdown",
      "source": [
        "## Initialize the Generative Model\n",
        "\n",
        "Before you can make any API calls, you need to initialize the Generative Model."
      ],
      "metadata": {
        "id": "BSEER_1VMrVf"
      }
    },
    {
      "cell_type": "code",
      "source": [
        "model = genai.GenerativeModel(\"gemini-2.0-flash\") ## Free Model - https://ai.google.dev/gemini-api/docs/pricing"
      ],
      "metadata": {
        "id": "d3ldT9tgMsBc"
      },
      "execution_count": 3,
      "outputs": []
    },
    {
      "cell_type": "code",
      "source": [
        "response = model.generate_content(\"Write a story about a magic backpack.\")\n",
        "print(response.text)"
      ],
      "metadata": {
        "colab": {
          "base_uri": "https://localhost:8080/",
          "height": 466
        },
        "id": "pFzo4-AzM-3I",
        "outputId": "2875896e-a78b-4d55-cefc-44143f069a83"
      },
      "execution_count": 4,
      "outputs": [
        {
          "output_type": "stream",
          "name": "stdout",
          "text": [
            "Maya, a perpetually flustered art student, stumbled upon it at a dusty flea market, tucked between a chipped porcelain doll and a stack of moth-eaten velvet curtains. It was a simple, unassuming backpack, made of faded denim, patched in places with mismatched floral fabric. She almost passed it by, but something about its worn charm tugged at her. It was priced at a measly five dollars, which she figured was worth it for a quirky storage solution.\n",
            "\n",
            "The magic started subtly. The first time she packed her sketchbook, it somehow felt lighter than usual. Then, during her water painting class, she realized she'd forgotten her favorite brush. Despair bubbled in her chest, but as she rummaged through the backpack, she found it, tucked neatly alongside her tubes of paint. She dismissed it as a lucky coincidence, but the coincidences kept piling up.\n",
            "\n",
            "One day, she was desperately trying to finish a sculpture for her midterm. Her hands were aching, and inspiration was nowhere to be found. Discouraged, she slumped against the backpack, sighing. It felt strangely… warm. On a whim, she unzipped it and rummaged through, expecting to find nothing but her clay tools. Instead, her fingers brushed against something soft and yielding. She pulled it out: a perfectly formed, miniature clay hand, sculpted with incredible detail and expressive grace. It was exactly what her sculpture needed.\n",
            "\n",
            "From then on, Maya started experimenting. Need a specific shade of paint? She’d find a half-empty tube in the backpack, the exact color she envisioned. Running late for class? The backpack seemed to propel her forward, almost as if she were being carried by a gentle breeze. It became her silent, supportive companion, a wellspring of creativity and convenience.\n",
            "\n",
            "She knew she couldn't keep it a secret forever. Her best friend, Leo, a pragmatic engineering student, scoffed at her fantastical theories. \"Maya, it's just a backpack,\" he’d say, rolling his eyes. But even he couldn't deny the undeniable. He saw her pull out a perfectly sharpened pencil right before a sketching competition, and a tiny, self-charging solar panel when her phone died during a camping trip.\n",
            "\n",
            "One day, Leo, consumed by a particularly challenging coding project, confessed his frustration. \"I just need one line of code, Maya, one perfect algorithm to make this work!\"\n",
            "\n",
            "Maya hesitated. She had never used the backpack for anyone else's benefit, and she feared meddling with its magic. But Leo's genuine distress tugged at her heart. She unzipped the backpack, a surge of energy tingling in her fingertips. Reaching inside, she felt a smooth, metallic object. It was a USB drive. She handed it to Leo, who plugged it into his laptop. Instantly, the missing line of code appeared on the screen, elegantly simple and flawlessly functional. Leo stared at the screen, then at Maya, his mouth agape.\n",
            "\n",
            "That was when they realized the backpack was more than just a convenient helper. It reflected their needs, their desires, and their potential. It amplified their talents and offered solutions tailored to their individual problems.\n",
            "\n",
            "However, the magic came with a price. As Maya relied more and more on the backpack, her own creativity began to stagnate. The joy of artistic struggle, the satisfaction of overcoming challenges, began to fade. She was becoming dependent, losing her spark.\n",
            "\n",
            "One evening, she sat in her studio, staring blankly at a canvas. The backpack sat beside her, a tempting source of inspiration. But this time, she resisted. She pushed the backpack aside and picked up her brush. She spent hours struggling, experimenting, failing. Finally, exhausted but exhilarated, she stepped back to admire her work. It wasn't perfect, but it was hers, born from her own sweat and tears.\n",
            "\n",
            "The next day, she returned to the flea market, hoping to find the vendor who had sold her the backpack. He was gone. In his place was a new stall, selling brightly colored, mass-produced backpacks. Maya smiled, understanding. The magic had served its purpose. It had guided her, inspired her, and taught her the importance of self-reliance.\n",
            "\n",
            "She still kept the denim backpack, tucked away in her closet. It was a reminder that magic exists, not just in enchanted objects, but within ourselves, waiting to be awakened. And sometimes, all we need is a little nudge in the right direction.\n",
            "\n"
          ]
        }
      ]
    }
  ]
}