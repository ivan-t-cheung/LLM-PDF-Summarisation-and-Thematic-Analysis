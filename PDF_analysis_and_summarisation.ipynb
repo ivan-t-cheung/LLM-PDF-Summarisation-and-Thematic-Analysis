{
  "nbformat": 4,
  "nbformat_minor": 0,
  "metadata": {
    "colab": {
      "provenance": [],
      "authorship_tag": "ABX9TyO+ZZRCb8oygg4EO9BwOQVC",
      "include_colab_link": true
    },
    "kernelspec": {
      "name": "python3",
      "display_name": "Python 3"
    },
    "language_info": {
      "name": "python"
    }
  },
  "cells": [
    {
      "cell_type": "markdown",
      "metadata": {
        "id": "view-in-github",
        "colab_type": "text"
      },
      "source": [
        "<a href=\"https://colab.research.google.com/github/ivan-t-cheung/LLM-PDF-Summarisation-and-Thematic-Analysis/blob/main/PDF_analysis_and_summarisation.ipynb\" target=\"_parent\"><img src=\"https://colab.research.google.com/assets/colab-badge.svg\" alt=\"Open In Colab\"/></a>"
      ]
    },
    {
      "cell_type": "code",
      "source": [
        "## install libraries\n",
        "!pip install -q -U google-generativeai"
      ],
      "metadata": {
        "id": "5zgIYEyMXf5w"
      },
      "execution_count": null,
      "outputs": []
    },
    {
      "cell_type": "code",
      "execution_count": 5,
      "metadata": {
        "id": "7Ji1PkLOSD65",
        "colab": {
          "base_uri": "https://localhost:8080/"
        },
        "outputId": "20eefca0-39eb-4fac-a9ba-b7178626a6da"
      },
      "outputs": [
        {
          "output_type": "stream",
          "name": "stdout",
          "text": [
            "Mounted at /content/drive\n"
          ]
        }
      ],
      "source": [
        "## import libraries\n",
        "from google import genai\n",
        "from google.genai import types\n",
        "\n",
        "# Used to securely store your API key\n",
        "from google.colab import userdata\n",
        "\n",
        "\n",
        "from google.colab import drive\n",
        "import pathlib\n",
        "\n",
        "## params\n",
        "drive.mount('/content/drive', force_remount=True)\n",
        "GOOGLE_API_KEY=userdata.get('GOOGLE_API_KEY')\n",
        "\n",
        "client = genai.Client(api_key=GOOGLE_API_KEY)"
      ]
    },
    {
      "cell_type": "code",
      "source": [
        "filepath = pathlib.Path('/content/drive/MyDrive/Colab Notebooks/PDF analysis/sample_data_2.pdf')\n",
        "# Upload the PDF using the File API\n",
        "sample_file = client.files.upload(\n",
        "  file=filepath,\n",
        ")"
      ],
      "metadata": {
        "id": "AB7ft0c4eAFL"
      },
      "execution_count": 7,
      "outputs": []
    },
    {
      "cell_type": "code",
      "source": [
        "prompt = \"\"\"\n",
        "You are a very professional document summarization specialist.\n",
        "Please summarize the given document.\n",
        "\"\"\"\n",
        "\n",
        "response = client.models.generate_content(\n",
        "  model=\"gemini-2.0-flash\",\n",
        "  contents=[sample_file, prompt])\n"
      ],
      "metadata": {
        "id": "U5lEAzDsd-5B"
      },
      "execution_count": 13,
      "outputs": []
    },
    {
      "cell_type": "code",
      "source": [
        "response.text"
      ],
      "metadata": {
        "colab": {
          "base_uri": "https://localhost:8080/",
          "height": 125
        },
        "id": "4a97x0V-eNra",
        "outputId": "9c9362b2-589d-47f7-97de-8419e6bcbe23"
      },
      "execution_count": 14,
      "outputs": [
        {
          "output_type": "execute_result",
          "data": {
            "text/plain": [
              "'Here is a summary of \"The State of Digital Lending\":\\n\\nThe American Bankers Association (ABA) and Accenture have released an overview of the state of digital lending in 2021. Digital lending is rapidly evolving, requiring banks to meet rising customer expectations for hybrid experiences that combine online and in-person interactions. The report highlights key considerations for banks to accelerate digital transformation, including identifying pain points, selecting partners, and developing a framework for growth. The COVID-19 pandemic has accelerated digital adoption, with customers increasingly preferring digital channels for banking transactions. Banks have an advantage in that their deposit funding model provides lower costs, and they have a human element.\\nBanks that prioritize digital innovation can turn bank employees into advisors who support borrowers across digital channels and products, and can also leverage AI and other new technology. Regulatory compliance and customer-centricity are also crucial aspects of successful digital lending strategies. Banks can take a step closer to financial inclusion through better technology, such as credit passport. New technology can help lenders reach new markets and digitize processes without assuming onerous overhead.\\n'"
            ],
            "application/vnd.google.colaboratory.intrinsic+json": {
              "type": "string"
            }
          },
          "metadata": {},
          "execution_count": 14
        }
      ]
    }
  ]
}